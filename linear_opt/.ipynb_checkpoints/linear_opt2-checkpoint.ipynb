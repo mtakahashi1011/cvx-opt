{
 "cells": [
  {
   "cell_type": "code",
   "execution_count": 1,
   "id": "31105c04-7889-4fbb-8e95-8c9f261cc282",
   "metadata": {},
   "outputs": [],
   "source": [
    "from pulp import *\n",
    "import numpy as np "
   ]
  },
  {
   "cell_type": "code",
   "execution_count": 2,
   "id": "d2ed3f31-6c74-464a-8fc4-ab11ebd299f3",
   "metadata": {},
   "outputs": [],
   "source": [
    "A = np.array([[3, 1, 2], [1, 3, 0], [0, 2, 4]])\n",
    "c = np.array([150, 200, 300])\n",
    "b = np.array([60, 36, 48])\n",
    "(m, n) = A.shape"
   ]
  },
  {
   "cell_type": "code",
   "execution_count": 3,
   "id": "e21f9847-deb7-44b5-b5d3-f65d6a387cc1",
   "metadata": {},
   "outputs": [],
   "source": [
    "prob = LpProblem(name='Production', sense=LpMaximize)"
   ]
  },
  {
   "cell_type": "code",
   "execution_count": 4,
   "id": "4e269bce-525e-4539-a39e-210c2495b9b1",
   "metadata": {},
   "outputs": [],
   "source": [
    "x = [LpVariable('x'+str(i+1), lowBound=0) for i in range(n)]"
   ]
  },
  {
   "cell_type": "code",
   "execution_count": 5,
   "id": "b5a704e7-1a02-4abe-a1a6-74d7d4bf4700",
   "metadata": {},
   "outputs": [
    {
     "name": "stdout",
     "output_type": "stream",
     "text": [
      "Production:\n",
      "MAXIMIZE\n",
      "150*x1 + 200*x2 + 300*x3 + 0\n",
      "SUBJECT TO\n",
      "ineq1: 3 x1 + x2 + 2 x3 <= 60\n",
      "\n",
      "ineq2: x1 + 3 x2 <= 36\n",
      "\n",
      "ineq3: 2 x2 + 4 x3 <= 48\n",
      "\n",
      "VARIABLES\n",
      "x1 Continuous\n",
      "x2 Continuous\n",
      "x3 Continuous\n",
      "\n"
     ]
    }
   ],
   "source": [
    "prob += lpDot(c, x)\n",
    "for i in range(m):\n",
    "    prob += lpDot(A[i], x) <= b[i], 'ineq'+str(i+1)\n",
    "print(prob)"
   ]
  },
  {
   "cell_type": "code",
   "execution_count": 6,
   "id": "2cb77f47-bfa7-497b-8e4d-451866daca94",
   "metadata": {},
   "outputs": [
    {
     "name": "stdout",
     "output_type": "stream",
     "text": [
      "Welcome to the CBC MILP Solver \n",
      "Version: 2.10.3 \n",
      "Build Date: Dec 15 2019 \n",
      "\n",
      "command line - /opt/conda/lib/python3.10/site-packages/pulp/solverdir/cbc/linux/64/cbc /tmp/6b08babd81504b3b955a2967494b85d2-pulp.mps max timeMode elapsed branch printingOptions all solution /tmp/6b08babd81504b3b955a2967494b85d2-pulp.sol (default strategy 1)\n",
      "At line 2 NAME          MODEL\n",
      "At line 3 ROWS\n",
      "At line 8 COLUMNS\n",
      "At line 19 RHS\n",
      "At line 23 BOUNDS\n",
      "At line 24 ENDATA\n",
      "Problem MODEL has 3 rows, 3 columns and 7 elements\n",
      "Coin0008I MODEL read with 0 errors\n",
      "Option for timeMode changed from cpu to elapsed\n",
      "Presolve 3 (0) rows, 3 (0) columns and 7 (0) elements\n",
      "0  Obj -0 Dual inf 650 (3)\n",
      "0  Obj -0 Dual inf 650 (3)\n",
      "3  Obj 5800\n",
      "Optimal - objective value 5800\n",
      "Optimal objective 5800 - 3 iterations time 0.042\n",
      "Option for printingOptions changed from normal to all\n",
      "Total time (CPU seconds):       0.07   (Wallclock seconds):       0.09\n",
      "\n",
      "Optimal\n",
      "Optima value= 5800.0\n",
      "x1 = 12.0\n",
      "x2 = 8.0\n",
      "x3 = 8.0\n"
     ]
    }
   ],
   "source": [
    "prob.solve()\n",
    "print(LpStatus[prob.status])\n",
    "print('Optima value=', value(prob.objective))\n",
    "for v in prob.variables():\n",
    "    print(v.name, '=', v.varValue)"
   ]
  },
  {
   "cell_type": "code",
   "execution_count": 7,
   "id": "3cc011ff-4a9a-4d1f-bd51-ed1e57b2f666",
   "metadata": {},
   "outputs": [
    {
     "name": "stdout",
     "output_type": "stream",
     "text": [
      "[60. 36. 48.]\n",
      "[0. 0. 0.]\n",
      "True\n"
     ]
    }
   ],
   "source": [
    "X = np.array([v.varValue for v in prob.variables()])\n",
    "print(np.dot(A, X))\n",
    "print(b - np.dot(A, X))\n",
    "print(np.all(b - np.dot(A, X) >= 0))"
   ]
  },
  {
   "cell_type": "code",
   "execution_count": null,
   "id": "d1b46150-298f-4b62-a818-16a8bcfb3219",
   "metadata": {},
   "outputs": [],
   "source": []
  }
 ],
 "metadata": {
  "kernelspec": {
   "display_name": "Python 3 (ipykernel)",
   "language": "python",
   "name": "python3"
  },
  "language_info": {
   "codemirror_mode": {
    "name": "ipython",
    "version": 3
   },
   "file_extension": ".py",
   "mimetype": "text/x-python",
   "name": "python",
   "nbconvert_exporter": "python",
   "pygments_lexer": "ipython3",
   "version": "3.10.11"
  }
 },
 "nbformat": 4,
 "nbformat_minor": 5
}
